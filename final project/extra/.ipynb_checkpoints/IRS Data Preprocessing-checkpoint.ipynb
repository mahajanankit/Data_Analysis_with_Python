{
 "cells": [
  {
   "cell_type": "markdown",
   "metadata": {},
   "source": [
    "# Appending data and removing unwanted columns"
   ]
  },
  {
   "cell_type": "code",
   "execution_count": 1,
   "metadata": {
    "collapsed": false
   },
   "outputs": [],
   "source": [
    "import pandas\n",
    "import os\n",
    "import re"
   ]
  },
  {
   "cell_type": "code",
   "execution_count": 6,
   "metadata": {
    "collapsed": false
   },
   "outputs": [],
   "source": [
    "rootdir = \"C:/Users/Ankit Mahajan/Documents/Github/mahajan_ankit/final project/\"\n",
    "cols = [\"state\", \"zipcode\", \"agi_stub\",\"n1\",\"a00100\",\"n02300\",\"a02300\",\"n11902\",\"a11902\", \"numdep\",\"year\"]"
   ]
  },
  {
   "cell_type": "code",
   "execution_count": 3,
   "metadata": {
    "collapsed": false
   },
   "outputs": [],
   "source": [
    "df = pandas.DataFrame()\n",
    "with open(rootdir+'/data/processed data/IRS_Data.csv', 'a') as f:\n",
    "    for subdir, dirs, files in os.walk(rootdir+\"/data/raw data/IRS/\"):\n",
    "        for file in files:\n",
    "            a = pandas.read_csv(os.path.join(subdir, file), sep=\",\")\n",
    "            a.columns = [x.lower() for x in a.columns]\n",
    "            df[\"state\"] = a[\"state\"]\n",
    "            df[\"zipcode\"] = a[\"zipcode\"]\n",
    "            df[\"agi_stub\"] = a[\"agi_stub\"]\n",
    "            df[\"n1\"] = a[\"n1\"]\n",
    "            df[\"a00100\"] = a[\"a00100\"]\n",
    "            df[\"n02300\"] = a[\"n02300\"]\n",
    "            df[\"a02300\"] = a[\"a02300\"]\n",
    "            df[\"n11902\"] = a[\"n11902\"]\n",
    "            df[\"a11902\"] = a[\"a11902\"]\n",
    "            df[\"numdep\"] = a[\"numdep\"]\n",
    "            df[\"year\"] = file.split(\".\")[0]\n",
    "            df.to_csv(f,header=False, index=False)\n",
    "f.close()"
   ]
  },
  {
   "cell_type": "code",
   "execution_count": 4,
   "metadata": {
    "collapsed": false
   },
   "outputs": [],
   "source": [
    "df = pandas.DataFrame(data = pandas.read_csv(rootdir+'/data/processed data/IRS_Data.csv', sep=\",\"))"
   ]
  },
  {
   "cell_type": "code",
   "execution_count": 7,
   "metadata": {
    "collapsed": false
   },
   "outputs": [],
   "source": [
    "df.columns=cols\n",
    "df =  df[df.zipcode != 0]"
   ]
  },
  {
   "cell_type": "code",
   "execution_count": 8,
   "metadata": {
    "collapsed": true
   },
   "outputs": [],
   "source": [
    "df.dropna().to_csv(rootdir+'/data/processed data/IRS_Data.csv', index = False)"
   ]
  },
  {
   "cell_type": "code",
   "execution_count": null,
   "metadata": {
    "collapsed": true
   },
   "outputs": [],
   "source": []
  }
 ],
 "metadata": {
  "anaconda-cloud": {},
  "kernelspec": {
   "display_name": "Python [conda root]",
   "language": "python",
   "name": "conda-root-py"
  },
  "language_info": {
   "codemirror_mode": {
    "name": "ipython",
    "version": 3
   },
   "file_extension": ".py",
   "mimetype": "text/x-python",
   "name": "python",
   "nbconvert_exporter": "python",
   "pygments_lexer": "ipython3",
   "version": "3.5.2"
  }
 },
 "nbformat": 4,
 "nbformat_minor": 1
}
