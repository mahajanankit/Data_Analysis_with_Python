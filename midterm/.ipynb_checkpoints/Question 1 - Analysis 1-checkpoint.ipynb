{
 "cells": [
  {
   "cell_type": "markdown",
   "metadata": {},
   "source": [
    "# Question 1 - Anaalysis 1 "
   ]
  },
  {
   "cell_type": "markdown",
   "metadata": {},
   "source": [
    "Problem - Find out top 10 domains with highest outgoing traffic"
   ]
  },
  {
   "cell_type": "code",
   "execution_count": 97,
   "metadata": {
    "collapsed": false
   },
   "outputs": [],
   "source": [
    "import email\n",
    "import os\n",
    "import functools\n",
    "import itertools\n",
    "import matplotlib.pyplot as plt\n",
    "import operator"
   ]
  },
  {
   "cell_type": "markdown",
   "metadata": {},
   "source": [
    "Collecting path variables. Please change the value of rpath according to your machine."
   ]
  },
  {
   "cell_type": "code",
   "execution_count": 98,
   "metadata": {
    "collapsed": true
   },
   "outputs": [],
   "source": [
    "rpath=\"C:/Users/Ankit Mahajan/Documents/Python Scripts/\"\n",
    "path=\"midterm/data/enron/maildir\"\n",
    "root = rpath+path"
   ]
  },
  {
   "cell_type": "markdown",
   "metadata": {},
   "source": [
    "Defining a function that filters email recipients and separates different domain names from email addresses"
   ]
  },
  {
   "cell_type": "code",
   "execution_count": 99,
   "metadata": {
    "collapsed": false
   },
   "outputs": [],
   "source": [
    "def addtodictionary(raw_email):\n",
    "    email_message = email.message_from_string(raw_email)\n",
    "    for to in str(email_message['To']).split(','):\n",
    "        if to.endswith(\"@enron.com\") is False and to != \"None\":\n",
    "            datatoanalyse.append(to.split(\"@\",1)[1])"
   ]
  },
  {
   "cell_type": "markdown",
   "metadata": {},
   "source": [
    "Iterating through different sent emails in each user"
   ]
  },
  {
   "cell_type": "code",
   "execution_count": 100,
   "metadata": {
    "collapsed": false
   },
   "outputs": [],
   "source": [
    "datatoanalyse = []\n",
    "for subdir, dirs, files in os.walk(root):\n",
    "    if subdir.endswith(\"_sent_mail\"):\n",
    "        for file in files:\n",
    "            with open(subdir+\"/\"+file, 'r') as f:\n",
    "                addtodictionary(f.read())"
   ]
  },
  {
   "cell_type": "markdown",
   "metadata": {},
   "source": [
    "Calculating frequency of emails per domain"
   ]
  },
  {
   "cell_type": "code",
   "execution_count": 101,
   "metadata": {
    "collapsed": false
   },
   "outputs": [],
   "source": [
    "word_freq = {}\n",
    "word_freq = functools.reduce( lambda d, c: d.update([(c, d.get(c,0)+1)]) or d, datatoanalyse, {})"
   ]
  },
  {
   "cell_type": "markdown",
   "metadata": {},
   "source": [
    "Plotting graph of the calculatesd values"
   ]
  },
  {
   "cell_type": "code",
   "execution_count": 106,
   "metadata": {
    "collapsed": false
   },
   "outputs": [
    {
     "data": {
      "image/png": "[encoded data removed]",
      "text/plain": [
       "<matplotlib.figure.Figure at 0x2a50a1c2470>"
      ]
     },
     "metadata": {},
     "output_type": "display_data"
    }
   ],
   "source": [
    "plt.bar(range(len(word_freq)), word_freq.values(), align='center')\n",
    "plt.xticks(range(len(word_freq)), word_freq.keys())\n",
    "plt.show()"
   ]
  },
  {
   "cell_type": "markdown",
   "metadata": {},
   "source": [
    "Sorting the dictionary by values and displaying top 10 amongst them"
   ]
  },
  {
   "cell_type": "code",
   "execution_count": 112,
   "metadata": {
    "collapsed": false
   },
   "outputs": [
    {
     "name": "stdout",
     "output_type": "stream",
     "text": [
      "Top 10 domains with highest outgoing traffic are- \n",
      "Domain name: Number of mails\n",
      "aol.com  :  1639\n",
      "hotmail.com  :  515\n",
      "kslaw.com  :  398\n",
      "erac.com  :  289\n",
      "yahoo.com  :  207\n",
      "bigplanet.com  :  203\n",
      "akllp.com  :  202\n",
      "compaq.com  :  197\n",
      "columbiaenergygroup.com  :  168\n",
      "bracepatt.com  :  167\n"
     ]
    }
   ],
   "source": [
    "freq = sorted(word_freq.items(), key=operator.itemgetter(1), reverse=True)[:10]\n",
    "print(\"Top 10 domains with highest outgoing traffic are- \\nDomain name: Number of mails\")\n",
    "for r in freq:\n",
    "    print(r[0], \" : \",r[1])"
   ]
  }
 ],
 "metadata": {
  "anaconda-cloud": {},
  "kernelspec": {
   "display_name": "Python [conda root]",
   "language": "python",
   "name": "conda-root-py"
  },
  "language_info": {
   "codemirror_mode": {
    "name": "ipython",
    "version": 3
   },
   "file_extension": ".py",
   "mimetype": "text/x-python",
   "name": "python",
   "nbconvert_exporter": "python",
   "pygments_lexer": "ipython3",
   "version": "3.5.2"
  }
 },
 "nbformat": 4,
 "nbformat_minor": 1
}
