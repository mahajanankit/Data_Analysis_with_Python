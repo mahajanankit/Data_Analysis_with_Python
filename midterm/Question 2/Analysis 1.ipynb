{
 "cells": [
  {
   "cell_type": "markdown",
   "metadata": {},
   "source": [
    "# Question 1"
   ]
  },
  {
   "cell_type": "code",
   "execution_count": 32,
   "metadata": {
    "collapsed": false
   },
   "outputs": [],
   "source": [
    "import os\n",
    "import json\n",
    "import requests\n",
    "rpath=\"C:/Users/Ankit Mahajan/Documents/Python Scripts/\"\n",
    "path=\"midterm/data/\"\n",
    "root = rpath+path"
   ]
  },
  {
   "cell_type": "code",
   "execution_count": 33,
   "metadata": {
    "collapsed": false
   },
   "outputs": [
    {
     "name": "stdout",
     "output_type": "stream",
     "text": [
      "Json dumped in folder\n"
     ]
    }
   ],
   "source": [
    "populationdata=[]\n",
    "\n",
    "populationdata.append(requests.get(\"https://api.nytimes.com/svc/search/v2/articlesearch.json?api-key=eaf7e9522bd346d49024f720b1e4c8c7\").json())\n",
    "populationdirectory='Article Search'\n",
    "\n",
    "if not os.path.exists(root+populationdirectory):\n",
    "        os.makedirs(root+populationdirectory)\n",
    "with open(root+populationdirectory+'\\\\Article Search.json', 'w') as outfile:\n",
    "        json.dump(populationdata, outfile)\n",
    "        print(\"Json dumped in folder\")"
   ]
  },
  {
   "cell_type": "code",
   "execution_count": 35,
   "metadata": {
    "collapsed": false
   },
   "outputs": [
    {
     "name": "stdout",
     "output_type": "stream",
     "text": [
      "Json dumped in folder\n"
     ]
    }
   ],
   "source": [
    "populationdata=[]\n",
    "\n",
    "populationdata.append(requests.get(\"https://api.nytimes.com/svc/mostpopular/v2/mostviewed//.json?api-key=eaf7e9522bd346d49024f720b1e4c8c7\").json())\n",
    "populationdirectory='Most Popular'\n",
    "\n",
    "\n",
    "if not os.path.exists(root+populationdirectory):\n",
    "        os.makedirs(root+populationdirectory)\n",
    "with open(root+populationdirectory+'\\\\Most Popular.json', 'w') as outfile:\n",
    "        json.dump(populationdata, outfile)\n",
    "        print(\"Json dumped in folder\")"
   ]
  },
  {
   "cell_type": "code",
   "execution_count": null,
   "metadata": {
    "collapsed": true
   },
   "outputs": [],
   "source": []
  }
 ],
 "metadata": {
  "anaconda-cloud": {},
  "kernelspec": {
   "display_name": "Python [conda root]",
   "language": "python",
   "name": "conda-root-py"
  },
  "language_info": {
   "codemirror_mode": {
    "name": "ipython",
    "version": 3
   },
   "file_extension": ".py",
   "mimetype": "text/x-python",
   "name": "python",
   "nbconvert_exporter": "python",
   "pygments_lexer": "ipython3",
   "version": "3.5.2"
  }
 },
 "nbformat": 4,
 "nbformat_minor": 1
}
