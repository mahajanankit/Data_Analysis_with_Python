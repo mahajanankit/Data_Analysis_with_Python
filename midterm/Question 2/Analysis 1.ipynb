{
 "cells": [
  {
   "cell_type": "markdown",
   "metadata": {},
   "source": [
    "# Question 2 Analysis 1"
   ]
  },
  {
   "cell_type": "markdown",
   "metadata": {},
   "source": [
    "Problem: Favorite topics over the years."
   ]
  },
  {
   "cell_type": "code",
   "execution_count": 237,
   "metadata": {
    "collapsed": false
   },
   "outputs": [],
   "source": [
    "import os\n",
    "import json\n",
    "import nltk\n",
    "import csv\n",
    "import operator"
   ]
  },
  {
   "cell_type": "markdown",
   "metadata": {},
   "source": [
    "Setting up path variables"
   ]
  },
  {
   "cell_type": "code",
   "execution_count": 238,
   "metadata": {
    "collapsed": true
   },
   "outputs": [],
   "source": [
    "rpath=\"C:/Users/Ankit Mahajan/Documents/Python Scripts/mahajan_ankit/\"\n",
    "path=\"midterm/data/\"\n",
    "root = rpath+path\n",
    "tokenizer = nltk.tokenize.RegexpTokenizer(r'\\w+')"
   ]
  },
  {
   "cell_type": "markdown",
   "metadata": {},
   "source": [
    "Logic for analysis"
   ]
  },
  {
   "cell_type": "code",
   "execution_count": 239,
   "metadata": {
    "collapsed": false
   },
   "outputs": [],
   "source": [
    "def assignvalues(section,year):\n",
    "    #checking if year is ppresent in the dictionary \n",
    "    if year in datatoanalyse:\n",
    "        #checking if section is present in the year dictionary\n",
    "        if section in datatoanalyse[year]:\n",
    "            datatoanalyse[year][section] += 1\n",
    "        else:\n",
    "            datatoanalyse[year][section] = 1\n",
    "    else:\n",
    "        datatoanalyse[year] ={}\n",
    "        datatoanalyse[year][section]=1"
   ]
  },
  {
   "cell_type": "markdown",
   "metadata": {},
   "source": [
    "Opening the web page of the url of every article and paasing it to the logic"
   ]
  },
  {
   "cell_type": "code",
   "execution_count": 240,
   "metadata": {
    "collapsed": false
   },
   "outputs": [],
   "source": [
    "def processdata():\n",
    "    i =0\n",
    "    while i< len(json_object[0]['response']['docs']):\n",
    "        assignvalues(json_object[0]['response']['docs'][i]['section_name'], json_object[0]['response']['docs'][i]['pub_date'][:4])\n",
    "        i+=1"
   ]
  },
  {
   "cell_type": "markdown",
   "metadata": {},
   "source": [
    "Collecting data and processing it"
   ]
  },
  {
   "cell_type": "code",
   "execution_count": 241,
   "metadata": {
    "collapsed": false
   },
   "outputs": [],
   "source": [
    "datatoanalyse = {}\n",
    "y = 2013\n",
    "while y <= 2016:\n",
    "    #collecting every year's data from different files\n",
    "    with open(root+\"Archive\"+str(y)+\".json\",'r') as f:\n",
    "        json_object = json.load(f)\n",
    "        processdata()\n",
    "    y+=1"
   ]
  },
  {
   "cell_type": "markdown",
   "metadata": {},
   "source": [
    "Sorting and preparing data for analysis"
   ]
  },
  {
   "cell_type": "code",
   "execution_count": 242,
   "metadata": {
    "collapsed": false
   },
   "outputs": [],
   "source": [
    "#sorting the parent dictionary based on year \n",
    "freq = sorted(datatoanalyse.items(), key=operator.itemgetter(0), reverse=True)\n",
    "i=0\n",
    "#sorting sections in every year based on number of articles of that section\n",
    "while i < len(datatoanalyse):\n",
    "    data[str(i+2013)]= sorted(datatoanalyse[str(i+2013)].items(), key=operator.itemgetter(1), reverse=True)\n",
    "    i+=1"
   ]
  },
  {
   "cell_type": "markdown",
   "metadata": {},
   "source": [
    "Storing the data in Analysis.csv"
   ]
  },
  {
   "cell_type": "code",
   "execution_count": 243,
   "metadata": {
    "collapsed": false
   },
   "outputs": [],
   "source": [
    "with open(\"Analysis 1\"+'.csv','w', newline='') as f:\n",
    "    writer = csv.writer(f)\n",
    "    writer.writerow([\"Year\",\"Section\",\"Number of Articles\"])\n",
    "    for y in data:\n",
    "        for d in data[y]:\n",
    "            writer.writerow([y,d[0],d[1]])"
   ]
  }
 ],
 "metadata": {
  "anaconda-cloud": {},
  "kernelspec": {
   "display_name": "Python [conda root]",
   "language": "python",
   "name": "conda-root-py"
  },
  "language_info": {
   "codemirror_mode": {
    "name": "ipython",
    "version": 3
   },
   "file_extension": ".py",
   "mimetype": "text/x-python",
   "name": "python",
   "nbconvert_exporter": "python",
   "pygments_lexer": "ipython3",
   "version": "3.5.2"
  }
 },
 "nbformat": 4,
 "nbformat_minor": 1
}
