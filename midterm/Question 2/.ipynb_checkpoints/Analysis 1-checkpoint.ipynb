{
 "cells": [
  {
   "cell_type": "markdown",
   "metadata": {},
   "source": [
    "# Question 1"
   ]
  },
  {
   "cell_type": "code",
   "execution_count": null,
   "metadata": {
    "collapsed": true
   },
   "outputs": [],
   "source": [
    "import requests\n",
    "populationdata.append(requests.get('https://api.nytimes.com/svc/books/v3/lists/overview.json?api-key= 2>/dev/null).json())\n",
    "populationdirectory='Population Data'\n",
    "if not os.path.exists(populationdirectory):\n",
    "        os.makedirs(populationdirectory)\n",
    "        with open(populationdirectory+'\\\\'+str(populationdata[0]['locations'][0]['country']['code'])+'.json', 'w') as outfile:\n",
    "                json.dump(populationdata[0]['locations'][0], outfile)\n",
    "                print(\"Json dumped in folder\")"
   ]
  }
 ],
 "metadata": {
  "anaconda-cloud": {},
  "kernelspec": {
   "display_name": "Python [conda root]",
   "language": "python",
   "name": "conda-root-py"
  },
  "language_info": {
   "codemirror_mode": {
    "name": "ipython",
    "version": 3
   },
   "file_extension": ".py",
   "mimetype": "text/x-python",
   "name": "python",
   "nbconvert_exporter": "python",
   "pygments_lexer": "ipython3",
   "version": "3.5.2"
  }
 },
 "nbformat": 4,
 "nbformat_minor": 1
}
