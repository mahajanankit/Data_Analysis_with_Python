{
 "cells": [
  {
   "cell_type": "markdown",
   "metadata": {},
   "source": [
    "# First 2 parts of the Question"
   ]
  },
  {
   "cell_type": "code",
   "execution_count": 2,
   "metadata": {
    "collapsed": true
   },
   "outputs": [],
   "source": [
    "import os\n",
    "import json\n",
    "import requests"
   ]
  },
  {
   "cell_type": "code",
   "execution_count": 3,
   "metadata": {
    "collapsed": true
   },
   "outputs": [],
   "source": [
    "rpath=\"C:/Users/Ankit Mahajan/Documents/Python Scripts/mahajan_ankit/\"\n",
    "path=\"midterm/data/\"\n",
    "root = rpath+path"
   ]
  },
  {
   "cell_type": "markdown",
   "metadata": {},
   "source": [
    "Extracting json for Top Stories"
   ]
  },
  {
   "cell_type": "code",
   "execution_count": 6,
   "metadata": {
    "collapsed": false
   },
   "outputs": [
    {
     "name": "stdout",
     "output_type": "stream",
     "text": [
      "Json dumped in folder\n"
     ]
    }
   ],
   "source": [
    "populationdata=[]\n",
    "\n",
    "populationdata.append(requests.get(\"https://api.nytimes.com/svc/topstories/v2/home.json?api-key=eaf7e9522bd346d49024f720b1e4c8c7\").json())\n",
    "\n",
    "with open(root+'\\\\Top_Stories.json', 'w') as outfile:\n",
    "        json.dump(populationdata, outfile)\n",
    "        print(\"Json dumped in folder\")"
   ]
  },
  {
   "cell_type": "markdown",
   "metadata": {},
   "source": [
    "Extracting json for Article search"
   ]
  },
  {
   "cell_type": "code",
   "execution_count": 11,
   "metadata": {
    "collapsed": false
   },
   "outputs": [
    {
     "name": "stdout",
     "output_type": "stream",
     "text": [
      "Json dumped in folder\n"
     ]
    }
   ],
   "source": [
    "populationdata.append(requests.get(\"https://api.nytimes.com/svc/search/v2/articlesearch.json?api-key=eaf7e9522bd346d49024f720b1e4c8c7\").json())\n",
    "\n",
    "with open(root+'\\\\ArticleSearch.json', 'w') as outfile:\n",
    "        json.dump(populationdata, outfile)\n",
    "        print(\"Json dumped in folder\")\n",
    "    "
   ]
  },
  {
   "cell_type": "markdown",
   "metadata": {},
   "source": [
    "Extracting Archive data"
   ]
  },
  {
   "cell_type": "code",
   "execution_count": 9,
   "metadata": {
    "collapsed": false
   },
   "outputs": [
    {
     "name": "stdout",
     "output_type": "stream",
     "text": [
      "Json dumped in folder\n"
     ]
    }
   ],
   "source": [
    "populationdata=[]\n",
    "\n",
    "populationdata.append(requests.get(\"https://api.nytimes.com/svc/archive/v1/2016/1.json?api-key=eaf7e9522bd346d49024f720b1e4c8c7\").json())\n",
    "\n",
    "with open(root+'\\\\Archive2016.json', 'w') as outfile:\n",
    "        json.dump(populationdata, outfile)\n",
    "        print(\"Json dumped in folder\")"
   ]
  },
  {
   "cell_type": "code",
   "execution_count": 10,
   "metadata": {
    "collapsed": false
   },
   "outputs": [
    {
     "name": "stdout",
     "output_type": "stream",
     "text": [
      "Json dumped in folder\n"
     ]
    }
   ],
   "source": [
    "populationdata=[]\n",
    "\n",
    "populationdata.append(requests.get(\"https://api.nytimes.com/svc/archive/v1/2015/1.json?api-key=eaf7e9522bd346d49024f720b1e4c8c7\").json())\n",
    "\n",
    "with open(root+'\\\\Archive2015.json', 'w') as outfile:\n",
    "        json.dump(populationdata, outfile)\n",
    "        print(\"Json dumped in folder\")"
   ]
  },
  {
   "cell_type": "code",
   "execution_count": 11,
   "metadata": {
    "collapsed": false
   },
   "outputs": [
    {
     "name": "stdout",
     "output_type": "stream",
     "text": [
      "Json dumped in folder\n"
     ]
    }
   ],
   "source": [
    "populationdata=[]\n",
    "\n",
    "populationdata.append(requests.get(\"https://api.nytimes.com/svc/archive/v1/2014/1.json?api-key=eaf7e9522bd346d49024f720b1e4c8c7\").json())\n",
    "\n",
    "with open(root+'\\\\Archive2014.json', 'w') as outfile:\n",
    "        json.dump(populationdata, outfile)\n",
    "        print(\"Json dumped in folder\")"
   ]
  },
  {
   "cell_type": "code",
   "execution_count": 12,
   "metadata": {
    "collapsed": false
   },
   "outputs": [
    {
     "name": "stdout",
     "output_type": "stream",
     "text": [
      "Json dumped in folder\n"
     ]
    }
   ],
   "source": [
    "populationdata=[]\n",
    "\n",
    "populationdata.append(requests.get(\"https://api.nytimes.com/svc/archive/v1/2013/1.json?api-key=eaf7e9522bd346d49024f720b1e4c8c7\").json())\n",
    "\n",
    "with open(root+'\\\\Archive2013.json', 'w') as outfile:\n",
    "        json.dump(populationdata, outfile)\n",
    "        print(\"Json dumped in folder\")"
   ]
  },
  {
   "cell_type": "code",
   "execution_count": null,
   "metadata": {
    "collapsed": true
   },
   "outputs": [],
   "source": []
  }
 ],
 "metadata": {
  "anaconda-cloud": {},
  "kernelspec": {
   "display_name": "Python [conda root]",
   "language": "python",
   "name": "conda-root-py"
  },
  "language_info": {
   "codemirror_mode": {
    "name": "ipython",
    "version": 3
   },
   "file_extension": ".py",
   "mimetype": "text/x-python",
   "name": "python",
   "nbconvert_exporter": "python",
   "pygments_lexer": "ipython3",
   "version": "3.5.2"
  }
 },
 "nbformat": 4,
 "nbformat_minor": 1
}
