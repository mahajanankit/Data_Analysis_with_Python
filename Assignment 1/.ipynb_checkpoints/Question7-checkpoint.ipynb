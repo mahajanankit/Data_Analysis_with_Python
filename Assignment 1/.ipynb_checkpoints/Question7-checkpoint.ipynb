{
 "cells": [
  {
   "cell_type": "markdown",
   "metadata": {
    "collapsed": true
   },
   "source": [
    "# Question 7"
   ]
  },
  {
   "cell_type": "code",
   "execution_count": null,
   "metadata": {
    "collapsed": true
   },
   "outputs": [],
   "source": [
    "import nltk\n",
    "from nltk.corpus import names\n",
    "from string import ascii_lowercase"
   ]
  },
  {
   "cell_type": "code",
   "execution_count": 5,
   "metadata": {
    "collapsed": false
   },
   "outputs": [
    {
     "data": {
      "text/plain": [
       "['female.txt', 'male.txt']"
      ]
     },
     "execution_count": 5,
     "metadata": {},
     "output_type": "execute_result"
    }
   ],
   "source": [
    "names.fileids()"
   ]
  },
  {
   "cell_type": "code",
   "execution_count": 7,
   "metadata": {
    "collapsed": false
   },
   "outputs": [],
   "source": [
    "freq_m = {}\n",
    "freq_f = {}\n",
    "for w in names.words('female.txt'):\n",
    "    w=w.lower()\n",
    "    if w[-1] in freq_f:\n",
    "        freq_f[w[-1]]+=1\n",
    "    else:\n",
    "        freq_f[w[-1]]=1\n",
    "\n",
    "for w in names.words('male.txt'):\n",
    "    w=w.lower()\n",
    "    if w[-1] in freq_m:\n",
    "        freq_m[w[-1]]+=1\n",
    "    else:\n",
    "        freq_m[w[-1]]=1\n",
    "        "
   ]
  },
  {
   "cell_type": "code",
   "execution_count": 11,
   "metadata": {
    "collapsed": false
   },
   "outputs": [
    {
     "name": "stdout",
     "output_type": "stream",
     "text": [
      "Probability of names starting with  a  --> male:  32.46951219512195  female:  67.53048780487805\n",
      "Probability of names starting with  b  --> male:  41.288782816229116  female:  58.711217183770884\n",
      "Probability of names starting with  c  --> male:  26.141732283464567  female:  73.85826771653544\n",
      "Probability of names starting with  d  --> male:  32.158590308370044  female:  67.84140969162996\n",
      "Probability of names starting with  e  --> male:  32.16216216216216  female:  67.83783783783784\n",
      "Probability of names starting with  f  --> male:  37.66233766233766  female:  62.33766233766234\n",
      "Probability of names starting with  g  --> male:  42.27642276422764  female:  57.72357723577236\n",
      "Probability of names starting with  h  --> male:  56.79442508710802  female:  43.20557491289198\n",
      "Probability of names starting with  i  --> male:  35.15625  female:  64.84375\n",
      "Probability of names starting with  j  --> male:  32.951945080091534  female:  67.04805491990847\n",
      "Probability of names starting with  k  --> male:  20.23121387283237  female:  79.76878612716763\n",
      "Probability of names starting with  l  --> male:  25.39325842696629  female:  74.6067415730337\n",
      "Probability of names starting with  m  --> male:  29.239766081871345  female:  70.76023391812865\n",
      "Probability of names starting with  n  --> male:  32.765957446808514  female:  67.23404255319149\n",
      "Probability of names starting with  o  --> male:  44.067796610169495  female:  55.932203389830505\n",
      "Probability of names starting with  p  --> male:  45.4954954954955  female:  54.5045045045045\n",
      "Probability of names starting with  q  --> male:  62.5  female:  37.5\n",
      "Probability of names starting with  r  --> male:  44.742729306487696  female:  55.257270693512304\n",
      "Probability of names starting with  s  --> male:  43.51005484460695  female:  56.48994515539305\n",
      "Probability of names starting with  t  --> male:  48.704663212435236  female:  51.295336787564764\n",
      "Probability of names starting with  u  --> male:  61.111111111111114  female:  38.888888888888886\n",
      "Probability of names starting with  v  --> male:  32.25806451612903  female:  67.74193548387096\n",
      "Probability of names starting with  w  --> male:  73.65853658536585  female:  26.341463414634145\n",
      "Probability of names starting with  x  --> male:  58.333333333333336  female:  41.666666666666664\n",
      "Probability of names starting with  y  --> male:  47.05882352941177  female:  52.94117647058823\n",
      "Probability of names starting with  z  --> male:  50.0  female:  50.0\n"
     ]
    }
   ],
   "source": [
    "m=0\n",
    "f=0\n",
    "for c in ascii_lowercase:\n",
    "    m=freq_m[c]\n",
    "    f=freq_f[c]\n",
    "    print(\"Probability of names starting with \",c,\" --> male: \",freq_m[c]*100/(freq_m[c]+freq_f[c]),\" female: \",freq_f[c]*100/(freq_m[c]+freq_f[c]) )"
   ]
  },
  {
   "cell_type": "code",
   "execution_count": null,
   "metadata": {
    "collapsed": true
   },
   "outputs": [],
   "source": []
  }
 ],
 "metadata": {
  "anaconda-cloud": {},
  "kernelspec": {
   "display_name": "Python [conda root]",
   "language": "python",
   "name": "conda-root-py"
  },
  "language_info": {
   "codemirror_mode": {
    "name": "ipython",
    "version": 3
   },
   "file_extension": ".py",
   "mimetype": "text/x-python",
   "name": "python",
   "nbconvert_exporter": "python",
   "pygments_lexer": "ipython3",
   "version": "3.5.2"
  }
 },
 "nbformat": 4,
 "nbformat_minor": 1
}
