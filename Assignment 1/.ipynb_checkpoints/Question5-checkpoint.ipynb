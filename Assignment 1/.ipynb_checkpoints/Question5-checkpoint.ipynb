{
 "cells": [
  {
   "cell_type": "markdown",
   "metadata": {},
   "source": [
    "# Question5"
   ]
  },
  {
   "cell_type": "code",
   "execution_count": 1,
   "metadata": {
    "collapsed": true
   },
   "outputs": [],
   "source": [
    "import nltk\n",
    "from nltk.corpus import gutenberg"
   ]
  },
  {
   "cell_type": "code",
   "execution_count": 2,
   "metadata": {
    "collapsed": true
   },
   "outputs": [],
   "source": [
    "from nltk.corpus import webtext"
   ]
  },
  {
   "cell_type": "code",
   "execution_count": 3,
   "metadata": {
    "collapsed": false
   },
   "outputs": [
    {
     "data": {
      "text/plain": [
       "['austen-emma.txt',\n",
       " 'austen-persuasion.txt',\n",
       " 'austen-sense.txt',\n",
       " 'bible-kjv.txt',\n",
       " 'blake-poems.txt',\n",
       " 'bryant-stories.txt',\n",
       " 'burgess-busterbrown.txt',\n",
       " 'carroll-alice.txt',\n",
       " 'chesterton-ball.txt',\n",
       " 'chesterton-brown.txt',\n",
       " 'chesterton-thursday.txt',\n",
       " 'edgeworth-parents.txt',\n",
       " 'melville-moby_dick.txt',\n",
       " 'milton-paradise.txt',\n",
       " 'shakespeare-caesar.txt',\n",
       " 'shakespeare-hamlet.txt',\n",
       " 'shakespeare-macbeth.txt',\n",
       " 'whitman-leaves.txt']"
      ]
     },
     "execution_count": 3,
     "metadata": {},
     "output_type": "execute_result"
    }
   ],
   "source": [
    "gutenberg.fileids()"
   ]
  },
  {
   "cell_type": "code",
   "execution_count": 4,
   "metadata": {
    "collapsed": false
   },
   "outputs": [
    {
     "data": {
      "text/plain": [
       "['firefox.txt',\n",
       " 'grail.txt',\n",
       " 'overheard.txt',\n",
       " 'pirates.txt',\n",
       " 'singles.txt',\n",
       " 'wine.txt']"
      ]
     },
     "execution_count": 4,
     "metadata": {},
     "output_type": "execute_result"
    }
   ],
   "source": [
    "webtext.fileids()"
   ]
  },
  {
   "cell_type": "code",
   "execution_count": 79,
   "metadata": {
    "collapsed": false
   },
   "outputs": [],
   "source": [
    "currentWords = []\n",
    "for file in webtext.fileids():\n",
    "    currentWords.extend(nltk.corpus.webtext.words(file))"
   ]
  },
  {
   "cell_type": "code",
   "execution_count": 60,
   "metadata": {
    "collapsed": false
   },
   "outputs": [],
   "source": [
    "shakespeareWords= []\n",
    "for file in gutenberg.fileids():\n",
    "    if file.startswith('shakespeare'):\n",
    "        shakespeareWords.extend(nltk.corpus.gutenberg.words(file))"
   ]
  },
  {
   "cell_type": "code",
   "execution_count": 72,
   "metadata": {
    "collapsed": false
   },
   "outputs": [],
   "source": [
    "old_words = []\n",
    "for w in shakespeareWords:\n",
    "    if w in old_words:\n",
    "        continue\n",
    "    else:\n",
    "        old_words.append(w)"
   ]
  },
  {
   "cell_type": "code",
   "execution_count": 80,
   "metadata": {
    "collapsed": false,
    "scrolled": false
   },
   "outputs": [],
   "source": [
    "new_words = []\n",
    "for w in currentWords:\n",
    "    if w in new_words:\n",
    "        continue\n",
    "    else:\n",
    "        new_words.append(w)"
   ]
  },
  {
   "cell_type": "code",
   "execution_count": 83,
   "metadata": {
    "collapsed": false
   },
   "outputs": [
    {
     "data": {
      "text/plain": [
       "21538"
      ]
     },
     "execution_count": 83,
     "metadata": {},
     "output_type": "execute_result"
    }
   ],
   "source": [
    "len(new_words)"
   ]
  },
  {
   "cell_type": "code",
   "execution_count": 90,
   "metadata": {
    "collapsed": false
   },
   "outputs": [],
   "source": [
    "specialwords =[]\n",
    "for w in old_words:\n",
    "    if w in new_words:\n",
    "        continue\n",
    "    else:\n",
    "        if w in specialwords:\n",
    "            continue\n",
    "        else:\n",
    "            specialwords.append(w)"
   ]
  },
  {
   "cell_type": "code",
   "execution_count": 98,
   "metadata": {
    "collapsed": false
   },
   "outputs": [],
   "source": [
    "freq = {}\n",
    "for w in shakespeareWords:\n",
    "    if w in specialwords:\n",
    "        if w in freq:\n",
    "            freq[w]+=1\n",
    "        else:\n",
    "            freq[w]=1"
   ]
  },
  {
   "cell_type": "code",
   "execution_count": 99,
   "metadata": {
    "collapsed": true
   },
   "outputs": [],
   "source": [
    "import operator#sorting based on frequency\n",
    "freq= sorted(freq.items(), key=operator.itemgetter(1), reverse=True)"
   ]
  },
  {
   "cell_type": "code",
   "execution_count": 100,
   "metadata": {
    "collapsed": false
   },
   "outputs": [
    {
     "name": "stdout",
     "output_type": "stream",
     "text": [
      "Top 50 words used by Shakespeare are: \n",
      "Word:  haue   Frequency:  406\n",
      "Word:  Ham   Frequency:  337\n",
      "Word:  Brutus   Frequency:  162\n",
      "Word:  Bru   Frequency:  153\n",
      "Word:  selfe   Frequency:  139\n",
      "Word:  Macb   Frequency:  137\n",
      "Word:  vpon   Frequency:  126\n",
      "Word:  hath   Frequency:  115\n",
      "Word:  st   Frequency:  110\n",
      "Word:  th   Frequency:  108\n",
      "Word:  Cassi   Frequency:  107\n",
      "Word:  Ile   Frequency:  106\n",
      "Word:  heere   Frequency:  100\n",
      "Word:  speake   Frequency:  100\n",
      "Word:  Hamlet   Frequency:  99\n",
      "Word:  Hor   Frequency:  95\n",
      "Word:  vp   Frequency:  91\n",
      "Word:  doe   Frequency:  89\n",
      "Word:  Cassius   Frequency:  85\n",
      "Word:  loue   Frequency:  81\n",
      "Word:  heare   Frequency:  79\n",
      "Word:  Antony   Frequency:  75\n",
      "Word:  Exeunt   Frequency:  75\n",
      "Word:  thinke   Frequency:  73\n",
      "Word:  feare   Frequency:  73\n",
      "Word:  tis   Frequency:  73\n",
      "Word:  againe   Frequency:  73\n",
      "Word:  giue   Frequency:  72\n",
      "Word:  downe   Frequency:  66\n",
      "Word:  Qu   Frequency:  62\n",
      "Word:  Macbeth   Frequency:  61\n",
      "Word:  Laer   Frequency:  60\n",
      "Word:  owne   Frequency:  58\n",
      "Word:  doth   Frequency:  58\n",
      "Word:  Macd   Frequency:  58\n",
      "Word:  Ophe   Frequency:  56\n",
      "Word:  leaue   Frequency:  55\n",
      "Word:  looke   Frequency:  53\n",
      "Word:  Heauen   Frequency:  53\n",
      "Word:  Rosse   Frequency:  49\n",
      "Word:  euery   Frequency:  49\n",
      "Word:  Ant   Frequency:  48\n",
      "Word:  Giue   Frequency:  46\n",
      "Word:  shew   Frequency:  45\n",
      "Word:  Rosin   Frequency:  43\n",
      "Word:  euer   Frequency:  43\n",
      "Word:  beare   Frequency:  42\n",
      "Word:  Haue   Frequency:  42\n",
      "Word:  Queene   Frequency:  42\n",
      "Word:  neuer   Frequency:  41\n"
     ]
    }
   ],
   "source": [
    "i=0\n",
    "print(\"Top 50 words used by Shakespeare are: \")\n",
    "for f in freq[:50]:\n",
    "        print(\"Word: \",f[0],\"  Frequency: \",f[1])"
   ]
  }
 ],
 "metadata": {
  "anaconda-cloud": {},
  "kernelspec": {
   "display_name": "Python [conda root]",
   "language": "python",
   "name": "conda-root-py"
  },
  "language_info": {
   "codemirror_mode": {
    "name": "ipython",
    "version": 3
   },
   "file_extension": ".py",
   "mimetype": "text/x-python",
   "name": "python",
   "nbconvert_exporter": "python",
   "pygments_lexer": "ipython3",
   "version": "3.5.2"
  }
 },
 "nbformat": 4,
 "nbformat_minor": 1
}
