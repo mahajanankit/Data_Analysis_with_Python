{
 "cells": [
  {
   "cell_type": "markdown",
   "metadata": {},
   "source": [
    "# Question 2"
   ]
  },
  {
   "cell_type": "code",
   "execution_count": 2,
   "metadata": {
    "collapsed": true
   },
   "outputs": [],
   "source": [
    "import nltk\n",
    "from nltk.corpus import gutenberg\n",
    "wordsInTheFile = nltk.corpus.gutenberg.raw('melville-moby_dick.txt')"
   ]
  },
  {
   "cell_type": "code",
   "execution_count": 3,
   "metadata": {
    "collapsed": false
   },
   "outputs": [],
   "source": [
    "wordsInTheFile = wordsInTheFile.lower()#converting to lowercase"
   ]
  },
  {
   "cell_type": "code",
   "execution_count": 5,
   "metadata": {
    "collapsed": false
   },
   "outputs": [],
   "source": [
    "freq={}\n",
    "i = 0\n",
    "while i<len(wordsInTheFile):\n",
    "    if wordsInTheFile[i].isalpha():#checking if the character belongs to alphabet\n",
    "        w=wordsInTheFile[i]\n",
    "        if w in freq:#checking if the letter is already in the freq list\n",
    "            freq[w] += 1\n",
    "        else:\n",
    "            freq[w] = 1\n",
    "    i+=1"
   ]
  },
  {
   "cell_type": "code",
   "execution_count": 6,
   "metadata": {
    "collapsed": false
   },
   "outputs": [],
   "source": [
    "import operator\n",
    "freq_sorted = sorted(freq.items(), key=operator.itemgetter(1), reverse=True)#sorting in reverse order"
   ]
  },
  {
   "cell_type": "code",
   "execution_count": 8,
   "metadata": {
    "collapsed": false
   },
   "outputs": [
    {
     "name": "stdout",
     "output_type": "stream",
     "text": [
      "Word: e    frequency: 117092\n",
      "Word: t    frequency: 87996\n",
      "Word: a    frequency: 77916\n",
      "Word: o    frequency: 69326\n",
      "Word: n    frequency: 65617\n",
      "Word: i    frequency: 65434\n",
      "Word: s    frequency: 64231\n",
      "Word: h    frequency: 62896\n",
      "Word: r    frequency: 52134\n",
      "Word: l    frequency: 42793\n",
      "Word: d    frequency: 38219\n",
      "Word: u    frequency: 26697\n",
      "Word: m    frequency: 23277\n",
      "Word: c    frequency: 22507\n",
      "Word: w    frequency: 22222\n",
      "Word: f    frequency: 20833\n",
      "Word: g    frequency: 20820\n",
      "Word: p    frequency: 17255\n",
      "Word: b    frequency: 16877\n",
      "Word: y    frequency: 16872\n",
      "Word: v    frequency: 8598\n",
      "Word: k    frequency: 8059\n",
      "Word: q    frequency: 1556\n",
      "Word: j    frequency: 1082\n",
      "Word: x    frequency: 1030\n",
      "Word: z    frequency: 632\n"
     ]
    }
   ],
   "source": [
    "for l in freq_sorted:\n",
    "    print(\"Word:\",l[0] ,\"   frequency:\",l[1])"
   ]
  }
 ],
 "metadata": {
  "anaconda-cloud": {},
  "kernelspec": {
   "display_name": "Python [conda root]",
   "language": "python",
   "name": "conda-root-py"
  },
  "language_info": {
   "codemirror_mode": {
    "name": "ipython",
    "version": 3
   },
   "file_extension": ".py",
   "mimetype": "text/x-python",
   "name": "python",
   "nbconvert_exporter": "python",
   "pygments_lexer": "ipython3",
   "version": "3.5.2"
  }
 },
 "nbformat": 4,
 "nbformat_minor": 1
}
