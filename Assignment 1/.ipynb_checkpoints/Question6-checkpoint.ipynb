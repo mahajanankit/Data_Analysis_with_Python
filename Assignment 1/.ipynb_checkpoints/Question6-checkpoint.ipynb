{
 "cells": [
  {
   "cell_type": "markdown",
   "metadata": {},
   "source": [
    "# Question6"
   ]
  },
  {
   "cell_type": "code",
   "execution_count": 32,
   "metadata": {
    "collapsed": true
   },
   "outputs": [],
   "source": [
    "import nltk"
   ]
  },
  {
   "cell_type": "code",
   "execution_count": 33,
   "metadata": {
    "collapsed": true
   },
   "outputs": [],
   "source": [
    "from nltk.corpus import inaugural"
   ]
  },
  {
   "cell_type": "code",
   "execution_count": 40,
   "metadata": {
    "collapsed": false
   },
   "outputs": [],
   "source": [
    "presidentwordcount = {}\n",
    "for file in inaugural.fileids():\n",
    "    uniquewords=inaugural.words(file)\n",
    "    uniqueswords = set(uniquewords)\n",
    "    if file[5:-4] in presidentwordcount:\n",
    "        presidentwordcount[file[5:-4]]+=len(uniquewords)\n",
    "    else:\n",
    "        presidentwordcount[file[5:-4]]=len(uniquewords)"
   ]
  },
  {
   "cell_type": "code",
   "execution_count": 41,
   "metadata": {
    "collapsed": false
   },
   "outputs": [
    {
     "name": "stdout",
     "output_type": "stream",
     "text": [
      "President  McKinley  used  6821  unique words in all his speeches together.\n",
      "President  Wilson  used  3561  unique words in all his speeches together.\n",
      "President  Clinton  used  4317  unique words in all his speeches together.\n",
      "President  Jackson  used  2475  unique words in all his speeches together.\n",
      "President  Hayes  used  2724  unique words in all his speeches together.\n",
      "President  Kennedy  used  1546  unique words in all his speeches together.\n",
      "President  Grant  used  2717  unique words in all his speeches together.\n",
      "President  Garfield  used  3239  unique words in all his speeches together.\n",
      "President  Taft  used  5846  unique words in all his speeches together.\n",
      "President  Polk  used  5196  unique words in all his speeches together.\n",
      "President  Johnson  used  1715  unique words in all his speeches together.\n",
      "President  Reagan  used  5747  unique words in all his speeches together.\n",
      "President  Harding  used  3756  unique words in all his speeches together.\n",
      "President  Roosevelt  used  7346  unique words in all his speeches together.\n",
      "President  Carter  used  1380  unique words in all his speeches together.\n",
      "President  Truman  used  2528  unique words in all his speeches together.\n",
      "President  Bush  used  6914  unique words in all his speeches together.\n",
      "President  Eisenhower  used  4692  unique words in all his speeches together.\n",
      "President  Taylor  used  1182  unique words in all his speeches together.\n",
      "President  Madison  used  2569  unique words in all his speeches together.\n",
      "President  Coolidge  used  4442  unique words in all his speeches together.\n",
      "President  Pierce  used  3657  unique words in all his speeches together.\n",
      "President  Obama  used  2726  unique words in all his speeches together.\n",
      "President  Nixon  used  4453  unique words in all his speeches together.\n",
      "President  Buchanan  used  3098  unique words in all his speeches together.\n",
      "President  Harrison  used  13915  unique words in all his speeches together.\n",
      "President  Monroe  used  8602  unique words in all his speeches together.\n",
      "President  Cleveland  used  3981  unique words in all his speeches together.\n",
      "President  Jefferson  used  4319  unique words in all his speeches together.\n",
      "President  Washington  used  1685  unique words in all his speeches together.\n",
      "President  Hoover  used  3890  unique words in all his speeches together.\n",
      "President  VanBuren  used  4171  unique words in all his speeches together.\n",
      "President  Adams  used  5735  unique words in all his speeches together.\n",
      "President  Lincoln  used  4790  unique words in all his speeches together.\n"
     ]
    }
   ],
   "source": [
    "for p in presidentwordcount:\n",
    "    print(\"President \",p,\" used \",presidentwordcount[p],\" unique words in all his speeches together.\")"
   ]
  }
 ],
 "metadata": {
  "kernelspec": {
   "display_name": "Python [conda root]",
   "language": "python",
   "name": "conda-root-py"
  },
  "language_info": {
   "codemirror_mode": {
    "name": "ipython",
    "version": 3
   },
   "file_extension": ".py",
   "mimetype": "text/x-python",
   "name": "python",
   "nbconvert_exporter": "python",
   "pygments_lexer": "ipython3",
   "version": "3.5.2"
  }
 },
 "nbformat": 4,
 "nbformat_minor": 1
}
