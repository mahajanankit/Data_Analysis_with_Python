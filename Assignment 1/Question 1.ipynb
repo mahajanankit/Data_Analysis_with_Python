{
 "cells": [
  {
   "cell_type": "markdown",
   "metadata": {},
   "source": [
    "# Question 1"
   ]
  },
  {
   "cell_type": "code",
   "execution_count": 1,
   "metadata": {
    "collapsed": true
   },
   "outputs": [],
   "source": [
    "import nltk\n",
    "from nltk.corpus import gutenberg"
   ]
  },
  {
   "cell_type": "markdown",
   "metadata": {
    "collapsed": false
   },
   "source": [
    "Displaying number of words"
   ]
  },
  {
   "cell_type": "code",
   "execution_count": 3,
   "metadata": {
    "collapsed": false
   },
   "outputs": [
    {
     "name": "stdout",
     "output_type": "stream",
     "text": [
      "Total number of words: 98171\n",
      "Total number of unique words: 6132\n"
     ]
    }
   ],
   "source": [
    "wordsInTheFile = nltk.corpus.gutenberg.words('austen-persuasion.txt')\n",
    "print(\"Total number of words:\",len(wordsInTheFile))\n",
    "uniqueWordsInTheFile = set(wordsInTheFile)\n",
    "print(\"Total number of unique words:\",len(uniqueWordsInTheFile))"
   ]
  },
  {
   "cell_type": "markdown",
   "metadata": {
    "collapsed": false
   },
   "source": [
    "Displaying 10 most frequent words"
   ]
  },
  {
   "cell_type": "code",
   "execution_count": 4,
   "metadata": {
    "collapsed": false
   },
   "outputs": [],
   "source": [
    "#calculating frequency\n",
    "freq = {}\n",
    "for w in wordsInTheFile:\n",
    "    if w in freq:\n",
    "        freq[w] += 1\n",
    "    else:\n",
    "        freq[w] = 1"
   ]
  },
  {
   "cell_type": "code",
   "execution_count": 7,
   "metadata": {
    "collapsed": false
   },
   "outputs": [],
   "source": [
    "#Sorting in decending order of the value\n",
    "import operator#sorting based on frequency\n",
    "freq_sorted = sorted(freq.items(), key=operator.itemgetter(1), reverse=True)"
   ]
  },
  {
   "cell_type": "code",
   "execution_count": 8,
   "metadata": {
    "collapsed": false
   },
   "outputs": [
    {
     "name": "stdout",
     "output_type": "stream",
     "text": [
      "Word: ,    frequency: 6750\n",
      "Word: the    frequency: 3120\n",
      "Word: to    frequency: 2775\n",
      "Word: .    frequency: 2741\n",
      "Word: and    frequency: 2739\n",
      "Word: of    frequency: 2564\n",
      "Word: a    frequency: 1529\n",
      "Word: in    frequency: 1346\n",
      "Word: was    frequency: 1330\n",
      "Word: ;    frequency: 1290\n"
     ]
    }
   ],
   "source": [
    "for l in freq_sorted[:10]:\n",
    "    print(\"Word:\",l[0] ,\"   frequency:\",l[1])"
   ]
  }
 ],
 "metadata": {
  "anaconda-cloud": {},
  "kernelspec": {
   "display_name": "Python [conda root]",
   "language": "python",
   "name": "conda-root-py"
  },
  "language_info": {
   "codemirror_mode": {
    "name": "ipython",
    "version": 3
   },
   "file_extension": ".py",
   "mimetype": "text/x-python",
   "name": "python",
   "nbconvert_exporter": "python",
   "pygments_lexer": "ipython3",
   "version": "3.5.2"
  }
 },
 "nbformat": 4,
 "nbformat_minor": 1
}
