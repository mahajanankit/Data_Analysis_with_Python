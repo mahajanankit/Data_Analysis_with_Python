{
 "cells": [
  {
   "cell_type": "markdown",
   "metadata": {},
   "source": [
    "# Question5"
   ]
  },
  {
   "cell_type": "code",
   "execution_count": 67,
   "metadata": {
    "collapsed": true
   },
   "outputs": [],
   "source": [
    "import nltk\n",
    "from nltk.corpus import gutenberg\n",
    "from nltk.corpus import webtext\n",
    "from nltk.corpus import stopwords\n",
    "import operator"
   ]
  },
  {
   "cell_type": "code",
   "execution_count": 68,
   "metadata": {
    "collapsed": false
   },
   "outputs": [],
   "source": [
    "currentWords = []\n",
    "for file in webtext.fileids():\n",
    "    currentWords.extend(nltk.corpus.webtext.words(file))"
   ]
  },
  {
   "cell_type": "code",
   "execution_count": 69,
   "metadata": {
    "collapsed": false
   },
   "outputs": [],
   "source": [
    "shakespeareWords= []\n",
    "for file in gutenberg.fileids():\n",
    "    if file.startswith('shakespeare'):\n",
    "        shakespeareWords.extend(nltk.corpus.gutenberg.words(file))"
   ]
  },
  {
   "cell_type": "code",
   "execution_count": 70,
   "metadata": {
    "collapsed": false
   },
   "outputs": [],
   "source": [
    "stop_words = stopwords.words()"
   ]
  },
  {
   "cell_type": "code",
   "execution_count": 71,
   "metadata": {
    "collapsed": false,
    "scrolled": false
   },
   "outputs": [],
   "source": [
    "new_words = {}\n",
    "for w in currentWords:\n",
    "    if w in new_words and w.lower() not in stop_words:\n",
    "        new_words[w]+=1\n",
    "    elif w not in stop_words:\n",
    "        new_words[w]=1"
   ]
  },
  {
   "cell_type": "code",
   "execution_count": 72,
   "metadata": {
    "collapsed": false
   },
   "outputs": [],
   "source": [
    "freq = {}\n",
    "for w in shakespeareWords:\n",
    "    if w in freq and w.lower() not in stop_words:\n",
    "        freq[w]+=1\n",
    "    elif w not in stop_words:\n",
    "        freq[w]=1"
   ]
  },
  {
   "cell_type": "code",
   "execution_count": 73,
   "metadata": {
    "collapsed": false
   },
   "outputs": [],
   "source": [
    "#sorting based on frequency\n",
    "freq= sorted(freq.items(), key=operator.itemgetter(1), reverse=True)\n",
    "new_words= sorted(new_words.items(), key=operator.itemgetter(1), reverse=True)"
   ]
  },
  {
   "cell_type": "code",
   "execution_count": 74,
   "metadata": {
    "collapsed": false
   },
   "outputs": [
    {
     "name": "stdout",
     "output_type": "stream",
     "text": [
      "Top 5 old words used by Shakespeare are: \n",
      "Word:  haue   Frequency:  406\n",
      "Word:  Brutus   Frequency:  162\n",
      "Word:  Bru   Frequency:  153\n",
      "Word:  selfe   Frequency:  139\n",
      "Word:  Macb   Frequency:  137\n"
     ]
    }
   ],
   "source": [
    "print(\"Top 5 old words used by Shakespeare are: \")\n",
    "i = 0\n",
    "for f in freq:\n",
    "    if f[0] not in new_words:\n",
    "        print(\"Word: \",f[0],\"  Frequency: \",f[1])\n",
    "        i+=1\n",
    "    if i ==5:\n",
    "        break"
   ]
  },
  {
   "cell_type": "code",
   "execution_count": 75,
   "metadata": {
    "collapsed": false
   },
   "outputs": [
    {
     "name": "stdout",
     "output_type": "stream",
     "text": [
      "Top 50 words used by Shakespeare are: \n",
      "Word:  ,   Frequency:  7058\n",
      "Word:  .   Frequency:  4417\n",
      "Word:  '   Frequency:  1750\n",
      "Word:  :   Frequency:  1541\n",
      "Word:  ?   Frequency:  996\n",
      "Word:  ;   Frequency:  456\n",
      "Word:  haue   Frequency:  406\n",
      "Word:  -   Frequency:  293\n",
      "Word:  Lord   Frequency:  293\n",
      "Word:  shall   Frequency:  259\n",
      "Word:  thou   Frequency:  256\n",
      "Word:  King   Frequency:  231\n",
      "Word:  Enter   Frequency:  225\n",
      "Word:  Caesar   Frequency:  192\n",
      "Word:  vs   Frequency:  183\n",
      "Word:  thy   Frequency:  175\n",
      "Word:  thee   Frequency:  174\n",
      "Word:  know   Frequency:  169\n",
      "Word:  good   Frequency:  165\n",
      "Word:  Brutus   Frequency:  162\n",
      "Word:  Bru   Frequency:  153\n",
      "Word:  would   Frequency:  142\n",
      "Word:  like   Frequency:  142\n",
      "Word:  selfe   Frequency:  139\n",
      "Word:  Macb   Frequency:  137\n",
      "Word:  well   Frequency:  126\n",
      "Word:  vpon   Frequency:  126\n",
      "Word:  let   Frequency:  122\n",
      "Word:  may   Frequency:  121\n",
      "Word:  must   Frequency:  116\n",
      "Word:  hath   Frequency:  115\n",
      "Word:  say   Frequency:  113\n",
      "Word:  st   Frequency:  110\n",
      "Word:  th   Frequency:  108\n",
      "Word:  Cassi   Frequency:  107\n",
      "Word:  see   Frequency:  104\n",
      "Word:  yet   Frequency:  104\n",
      "Word:  (   Frequency:  103\n",
      "Word:  time   Frequency:  103\n",
      "Word:  )   Frequency:  102\n",
      "Word:  make   Frequency:  102\n",
      "Word:  one   Frequency:  101\n",
      "Word:  speake   Frequency:  100\n",
      "Word:  heere   Frequency:  100\n",
      "Word:  Hamlet   Frequency:  99\n",
      "Word:  Let   Frequency:  95\n",
      "Word:  Hor   Frequency:  95\n",
      "Word:  vp   Frequency:  91\n",
      "Word:  Sir   Frequency:  89\n",
      "Word:  doe   Frequency:  89\n"
     ]
    }
   ],
   "source": [
    "print(\"Top 50 words used by Shakespeare are: \")\n",
    "i = 0\n",
    "for f in freq[:50]:\n",
    "    print(\"Word: \",f[0],\"  Frequency: \",f[1])\n",
    "    i+=1"
   ]
  },
  {
   "cell_type": "code",
   "execution_count": 77,
   "metadata": {
    "collapsed": false
   },
   "outputs": [
    {
     "name": "stdout",
     "output_type": "stream",
     "text": [
      "Top 50 words in webtext are: \n",
      "Word:  .   Frequency:  17689\n",
      "Word:  :   Frequency:  14114\n",
      "Word:  ,   Frequency:  12320\n",
      "Word:  '   Frequency:  10737\n",
      "Word:  ?   Frequency:  4343\n",
      "Word:  !   Frequency:  4059\n",
      "Word:  #   Frequency:  3710\n",
      "Word:  -   Frequency:  3288\n",
      "Word:  \"   Frequency:  2601\n",
      "Word:  1   Frequency:  2261\n",
      "Word:  Girl   Frequency:  1755\n",
      "Word:  2   Frequency:  1709\n",
      "Word:  Guy   Frequency:  1659\n",
      "Word:  like   Frequency:  1580\n",
      "Word:  ...   Frequency:  1542\n",
      "Word:  ]   Frequency:  1245\n",
      "Word:  [   Frequency:  1244\n",
      "Word:  girl   Frequency:  1200\n",
      "Word:  guy   Frequency:  1086\n",
      "Word:  know   Frequency:  1020\n",
      "Word:  (   Frequency:  909\n",
      "Word:  get   Frequency:  785\n",
      "Word:  Yeah   Frequency:  772\n",
      "Word:  page   Frequency:  723\n",
      "Word:  )   Frequency:  700\n",
      "Word:  Oh   Frequency:  664\n",
      "Word:  one   Frequency:  642\n",
      "Word:  Woman   Frequency:  640\n",
      "Word:  window   Frequency:  630\n",
      "Word:  Firefox   Frequency:  602\n",
      "Word:  cell   Frequency:  577\n",
      "Word:  open   Frequency:  567\n",
      "Word:  Teen   Frequency:  550\n",
      "Word:  work   Frequency:  528\n",
      "Word:  Chick   Frequency:  514\n",
      "Word:  new   Frequency:  506\n",
      "Word:  ***   Frequency:  498\n",
      "Word:  go   Frequency:  496\n",
      "Word:  bar   Frequency:  490\n",
      "Word:  good   Frequency:  488\n",
      "Word:  think   Frequency:  478\n",
      "Word:  right   Frequency:  477\n",
      "Word:  menu   Frequency:  465\n",
      "Word:  tab   Frequency:  458\n",
      "Word:  going   Frequency:  451\n",
      "Word:  Firebird   Frequency:  437\n",
      "Word:  boy   Frequency:  428\n",
      "Word:  Well   Frequency:  416\n",
      "Word:  time   Frequency:  415\n",
      "Word:  got   Frequency:  402\n"
     ]
    }
   ],
   "source": [
    "print(\"Top 50 words in webtext are: \")\n",
    "for f in new_words[:50]:\n",
    "    print(\"Word: \",f[0],\"  Frequency: \",f[1])"
   ]
  }
 ],
 "metadata": {
  "anaconda-cloud": {},
  "kernelspec": {
   "display_name": "Python [conda root]",
   "language": "python",
   "name": "conda-root-py"
  },
  "language_info": {
   "codemirror_mode": {
    "name": "ipython",
    "version": 3
   },
   "file_extension": ".py",
   "mimetype": "text/x-python",
   "name": "python",
   "nbconvert_exporter": "python",
   "pygments_lexer": "ipython3",
   "version": "3.5.2"
  }
 },
 "nbformat": 4,
 "nbformat_minor": 1
}
