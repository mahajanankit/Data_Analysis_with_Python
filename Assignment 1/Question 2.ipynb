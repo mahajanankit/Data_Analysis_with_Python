{
 "cells": [
  {
   "cell_type": "markdown",
   "metadata": {},
   "source": [
    "# Question 2"
   ]
  },
  {
   "cell_type": "code",
   "execution_count": 1,
   "metadata": {
    "collapsed": true
   },
   "outputs": [],
   "source": [
    "import nltk\n",
    "from nltk.corpus import gutenberg\n",
    "wordsInTheFile = nltk.corpus.gutenberg.raw('melville-moby_dick.txt')"
   ]
  },
  {
   "cell_type": "code",
   "execution_count": 2,
   "metadata": {
    "collapsed": false
   },
   "outputs": [],
   "source": [
    "wordsInTheFile = wordsInTheFile.lower()#converting to lowercase"
   ]
  },
  {
   "cell_type": "code",
   "execution_count": 3,
   "metadata": {
    "collapsed": false
   },
   "outputs": [],
   "source": [
    "freq={}\n",
    "i = 0\n",
    "while i<len(wordsInTheFile):\n",
    "    if wordsInTheFile[i].isalpha():#checking if the character belongs to alphabet\n",
    "        w=wordsInTheFile[i]\n",
    "        if w in freq:#checking if the letter is already in the freq list\n",
    "            freq[w] += 1\n",
    "        else:\n",
    "            freq[w] = 1\n",
    "    i+=1"
   ]
  },
  {
   "cell_type": "code",
   "execution_count": 4,
   "metadata": {
    "collapsed": false
   },
   "outputs": [],
   "source": [
    "import operator\n",
    "freq_sorted = sorted(freq.items(), key=operator.itemgetter(1), reverse=True)#sorting in reverse order"
   ]
  },
  {
   "cell_type": "code",
   "execution_count": 6,
   "metadata": {
    "collapsed": false
   },
   "outputs": [
    {
     "name": "stdout",
     "output_type": "stream",
     "text": [
      "Letter: e    frequency: 117092\n",
      "Letter: t    frequency: 87996\n",
      "Letter: a    frequency: 77916\n",
      "Letter: o    frequency: 69326\n",
      "Letter: n    frequency: 65617\n",
      "Letter: i    frequency: 65434\n",
      "Letter: s    frequency: 64231\n",
      "Letter: h    frequency: 62896\n",
      "Letter: r    frequency: 52134\n",
      "Letter: l    frequency: 42793\n",
      "Letter: d    frequency: 38219\n",
      "Letter: u    frequency: 26697\n",
      "Letter: m    frequency: 23277\n",
      "Letter: c    frequency: 22507\n",
      "Letter: w    frequency: 22222\n",
      "Letter: f    frequency: 20833\n",
      "Letter: g    frequency: 20820\n",
      "Letter: p    frequency: 17255\n",
      "Letter: b    frequency: 16877\n",
      "Letter: y    frequency: 16872\n",
      "Letter: v    frequency: 8598\n",
      "Letter: k    frequency: 8059\n",
      "Letter: q    frequency: 1556\n",
      "Letter: j    frequency: 1082\n",
      "Letter: x    frequency: 1030\n",
      "Letter: z    frequency: 632\n"
     ]
    }
   ],
   "source": [
    "for l in freq_sorted:\n",
    "    print(\"Letter:\",l[0] ,\"   frequency:\",l[1])"
   ]
  },
  {
   "cell_type": "code",
   "execution_count": null,
   "metadata": {
    "collapsed": true
   },
   "outputs": [],
   "source": []
  }
 ],
 "metadata": {
  "anaconda-cloud": {},
  "kernelspec": {
   "display_name": "Python [conda root]",
   "language": "python",
   "name": "conda-root-py"
  },
  "language_info": {
   "codemirror_mode": {
    "name": "ipython",
    "version": 3
   },
   "file_extension": ".py",
   "mimetype": "text/x-python",
   "name": "python",
   "nbconvert_exporter": "python",
   "pygments_lexer": "ipython3",
   "version": "3.5.2"
  }
 },
 "nbformat": 4,
 "nbformat_minor": 1
}
