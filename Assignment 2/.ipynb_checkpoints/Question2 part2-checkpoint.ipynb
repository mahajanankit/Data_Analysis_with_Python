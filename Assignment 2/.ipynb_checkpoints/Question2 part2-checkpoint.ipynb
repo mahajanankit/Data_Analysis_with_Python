{
 "cells": [
  {
   "cell_type": "markdown",
   "metadata": {},
   "source": [
    "# Question2 part 2"
   ]
  },
  {
   "cell_type": "markdown",
   "metadata": {},
   "source": [
    "Importing packages"
   ]
  },
  {
   "cell_type": "code",
   "execution_count": 1,
   "metadata": {
    "collapsed": true
   },
   "outputs": [],
   "source": [
    "from json import load\n",
    "from csv import writer\n",
    "from glob import glob"
   ]
  },
  {
   "cell_type": "markdown",
   "metadata": {},
   "source": [
    "Defining a function that creates a list from a given json file"
   ]
  },
  {
   "cell_type": "code",
   "execution_count": 2,
   "metadata": {
    "collapsed": false
   },
   "outputs": [],
   "source": [
    "def create_list(jsonData):\n",
    "    if \"hours\" in jsonData:\n",
    "        for t in jsonData[\"hours\"][0][\"open\"]:\n",
    "            csvData.append([jsonData[\"id\"],jsonData['location'][\"city\"],jsonData['location'][\"country\"],t[\"day\"],t[\"start\"][:2],t[\"start\"][2:],t[\"end\"][:2],t[\"end\"][2:]])"
   ]
  },
  {
   "cell_type": "markdown",
   "metadata": {},
   "source": [
    "Calling the above function with each of the files which has term=restaurant"
   ]
  },
  {
   "cell_type": "code",
   "execution_count": 3,
   "metadata": {
    "collapsed": false
   },
   "outputs": [],
   "source": [
    "csvData=[]\n",
    "for file in glob(r'C:/Users/Ankit Mahajan/Desktop/Notes/DataAnalysis4Python_Spring17/Assignment 2/Data/*'):\n",
    "    with open(file,'r') as f:\n",
    "        a=load(f)\n",
    "        if a.get('term')==\"restaurants\":\n",
    "            create_list(a)            "
   ]
  },
  {
   "cell_type": "markdown",
   "metadata": {},
   "source": [
    "Creating a csv file named Question2 and inserting csvData in it"
   ]
  },
  {
   "cell_type": "code",
   "execution_count": 4,
   "metadata": {
    "collapsed": false
   },
   "outputs": [],
   "source": [
    "with open(\"Question2\"+'.csv','w', newline='',encoding='utf-8') as f:\n",
    "    writer = writer(f)\n",
    "    writer.writerow([\"Name of the restaurant\",\"City\",\"Country\",\"day\",\"Start(hrs)\",\"Start(mins)\",\"End(hrs)\",\"End(mins)\"])\n",
    "    for r in csvData:\n",
    "        writer.writerow(r)"
   ]
  }
 ],
 "metadata": {
  "anaconda-cloud": {},
  "kernelspec": {
   "display_name": "Python [conda root]",
   "language": "python",
   "name": "conda-root-py"
  },
  "language_info": {
   "codemirror_mode": {
    "name": "ipython",
    "version": 3
   },
   "file_extension": ".py",
   "mimetype": "text/x-python",
   "name": "python",
   "nbconvert_exporter": "python",
   "pygments_lexer": "ipython3",
   "version": "3.5.2"
  }
 },
 "nbformat": 4,
 "nbformat_minor": 1
}
