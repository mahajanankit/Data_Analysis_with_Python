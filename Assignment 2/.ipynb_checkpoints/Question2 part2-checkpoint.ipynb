{
 "cells": [
  {
   "cell_type": "markdown",
   "metadata": {},
   "source": [
    "# Question2 part 2"
   ]
  },
  {
   "cell_type": "code",
   "execution_count": 105,
   "metadata": {
    "collapsed": true
   },
   "outputs": [],
   "source": [
    "import json\n",
    "import csv\n",
    "import glob"
   ]
  },
  {
   "cell_type": "code",
   "execution_count": 106,
   "metadata": {
    "collapsed": false,
    "scrolled": true
   },
   "outputs": [
    {
     "name": "stdout",
     "output_type": "stream",
     "text": [
      "restaurants\n"
     ]
    }
   ],
   "source": [
    "with open('C:/Users/Ankit Mahajan/Desktop/Notes/DataAnalysis4Python_Spring17/Assignment 2/Data/1-abercrombie-lane-sydney.json') as j:\n",
    "    d = json.load(j)\n",
    "    print(d['term'])"
   ]
  },
  {
   "cell_type": "code",
   "execution_count": 107,
   "metadata": {
    "collapsed": false
   },
   "outputs": [],
   "source": [
    "def create_list(jsonData):\n",
    "    if \"hours\" in jsonData:\n",
    "        for t in jsonData[\"hours\"][0][\"open\"]:\n",
    "            csvData.append([jsonData[\"id\"],jsonData['location'][\"city\"],jsonData['location'][\"country\"],t[\"day\"],t[\"start\"][:2],t[\"start\"][2:],t[\"end\"][:2],t[\"end\"][2:]])"
   ]
  },
  {
   "cell_type": "code",
   "execution_count": 108,
   "metadata": {
    "collapsed": false
   },
   "outputs": [],
   "source": [
    "csvData=[]\n",
    "for file in glob.glob(r'C:/Users/Ankit Mahajan/Desktop/Notes/DataAnalysis4Python_Spring17/Assignment 2/Data/*'):\n",
    "    with open(file,'r') as f:\n",
    "        a=json.load(f)\n",
    "        if a.get('term')==\"restaurants\":\n",
    "            create_list(a)            "
   ]
  },
  {
   "cell_type": "code",
   "execution_count": 109,
   "metadata": {
    "collapsed": false
   },
   "outputs": [],
   "source": [
    "with open(\"Question2\"+'.csv','w', newline='',encoding='utf-8') as f:\n",
    "    writer = csv.writer(f)\n",
    "    writer.writerow([\"Name of the restaurant\",\"City\",\"Country\",\"day\",\"Start(hrs)\",\"Start(mins)\",\"End(hrs)\",\"End(mins)\"])\n",
    "    for r in csvData:\n",
    "        writer.writerow(r)"
   ]
  },
  {
   "cell_type": "code",
   "execution_count": null,
   "metadata": {
    "collapsed": true
   },
   "outputs": [],
   "source": []
  }
 ],
 "metadata": {
  "anaconda-cloud": {},
  "kernelspec": {
   "display_name": "Python [conda root]",
   "language": "python",
   "name": "conda-root-py"
  },
  "language_info": {
   "codemirror_mode": {
    "name": "ipython",
    "version": 3
   },
   "file_extension": ".py",
   "mimetype": "text/x-python",
   "name": "python",
   "nbconvert_exporter": "python",
   "pygments_lexer": "ipython3",
   "version": "3.5.2"
  }
 },
 "nbformat": 4,
 "nbformat_minor": 1
}
