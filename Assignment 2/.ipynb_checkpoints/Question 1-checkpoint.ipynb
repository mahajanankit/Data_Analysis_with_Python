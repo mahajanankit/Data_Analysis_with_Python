{
 "cells": [
  {
   "cell_type": "markdown",
   "metadata": {},
   "source": [
    "# Question 1"
   ]
  },
  {
   "cell_type": "markdown",
   "metadata": {},
   "source": [
    "Importing all the neccessary packages"
   ]
  },
  {
   "cell_type": "code",
   "execution_count": 1,
   "metadata": {
    "collapsed": false
   },
   "outputs": [],
   "source": [
    "import glob\n",
    "from nltk.corpus import inaugural\n",
    "import operator\n",
    "import functools\n",
    "import csv\n",
    "import matplotlib.pyplot as plt\n",
    "from nltk.corpus import stopwords\n",
    "from nltk.tokenize import RegexpTokenizer"
   ]
  },
  {
   "cell_type": "markdown",
   "metadata": {},
   "source": [
    "Collecting all the words from the corpora inaugural"
   ]
  },
  {
   "cell_type": "code",
   "execution_count": 2,
   "metadata": {
    "collapsed": false
   },
   "outputs": [],
   "source": [
    "all_words =[]\n",
    "tokenizer = RegexpTokenizer(r'\\w+')\n",
    "for file in glob.glob(r'C:\\Users\\Ankit Mahajan\\AppData\\Roaming\\nltk_data\\corpora\\inaugural\\*'):\n",
    "    with open(file,'r') as f:\n",
    "        all_words.extend(words.lower() for words in tokenizer.tokenize(f.read()))"
   ]
  },
  {
   "cell_type": "markdown",
   "metadata": {
    "collapsed": false
   },
   "source": [
    "Defining a function to create a list of word,rank,frequency"
   ]
  },
  {
   "cell_type": "code",
   "execution_count": 3,
   "metadata": {
    "collapsed": false
   },
   "outputs": [],
   "source": [
    "def create_list(wordlist):\n",
    "    i = 1\n",
    "    freq=[]\n",
    "    stpwrds = stopwords.words()\n",
    "    for w in wordlist:\n",
    "        if w in stpwrds:\n",
    "            continue\n",
    "        else:\n",
    "            freq.append([w[0],i,w[1]])\n",
    "            i+=1\n",
    "    return freq"
   ]
  },
  {
   "cell_type": "markdown",
   "metadata": {},
   "source": [
    "Calculating frequency and calling the above function to map all of them together"
   ]
  },
  {
   "cell_type": "code",
   "execution_count": 4,
   "metadata": {
    "collapsed": false
   },
   "outputs": [],
   "source": [
    "word_freq = functools.reduce( lambda d, c: d.update([(c, d.get(c,0)+1)]) or d, all_words, {})\n",
    "freq = create_list(sorted(word_freq.items(), key=operator.itemgetter(1), reverse=True))"
   ]
  },
  {
   "cell_type": "markdown",
   "metadata": {},
   "source": [
    "Plotting the log-log graph of rank against frequency, wrtting into csv and calculating the constant A"
   ]
  },
  {
   "cell_type": "code",
   "execution_count": 5,
   "metadata": {
    "collapsed": false,
    "scrolled": true
   },
   "outputs": [
    {
     "data": {
      "image/png": "[encoded data removed]",
      "text/plain": [
       "<matplotlib.figure.Figure at 0x20f7aa4b320>"
      ]
     },
     "metadata": {},
     "output_type": "display_data"
    }
   ],
   "source": [
    "con_a=0\n",
    "with open(\"Question1\"+'.csv','w', newline='') as f:\n",
    "    writer = csv.writer(f)\n",
    "    writer.writerow([\"Word\",\"Rank\",\"Count\"])\n",
    "    for r in freq:\n",
    "        writer.writerow(r)\n",
    "        con_a+=r[1]*r[2]\n",
    "        plt.loglog(r[1], r[2],'--o')\n",
    "plt.show()\n",
    "con_a=con_a/len(freq)**2"
   ]
  },
  {
   "cell_type": "code",
   "execution_count": 6,
   "metadata": {
    "collapsed": false
   },
   "outputs": [
    {
     "name": "stdout",
     "output_type": "stream",
     "text": [
      "Value of constant A =  1\n"
     ]
    }
   ],
   "source": [
    "print (\"Value of constant A = \",round(con_a))"
   ]
  },
  {
   "cell_type": "markdown",
   "metadata": {},
   "source": [
    "Since the value of A = 1.\n",
    "The formula \"Rank * Frequency = A * Total_words\" now becomes\n",
    "and Total number of words for any corpus is a constant we can conclude the following:\n",
    "Rank of a word is inversely proportional to its frequency.\n",
    "This is what Zipf's Law states.\n",
    "Hence we have succesfully proved Zipf's Law."
   ]
  }
 ],
 "metadata": {
  "anaconda-cloud": {},
  "kernelspec": {
   "display_name": "Python [conda root]",
   "language": "python",
   "name": "conda-root-py"
  },
  "language_info": {
   "codemirror_mode": {
    "name": "ipython",
    "version": 3
   },
   "file_extension": ".py",
   "mimetype": "text/x-python",
   "name": "python",
   "nbconvert_exporter": "python",
   "pygments_lexer": "ipython3",
   "version": "3.5.2"
  }
 },
 "nbformat": 4,
 "nbformat_minor": 1
}
